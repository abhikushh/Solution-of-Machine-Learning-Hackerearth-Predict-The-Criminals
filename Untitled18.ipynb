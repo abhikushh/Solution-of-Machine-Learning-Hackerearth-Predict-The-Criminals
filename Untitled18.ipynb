{
 "cells": [
  {
   "cell_type": "code",
   "execution_count": 1,
   "metadata": {},
   "outputs": [
    {
     "name": "stderr",
     "output_type": "stream",
     "text": [
      "C:\\Users\\Abhishek Kushwaha\\Anaconda3\\lib\\site-packages\\h5py\\__init__.py:36: FutureWarning: Conversion of the second argument of issubdtype from `float` to `np.floating` is deprecated. In future, it will be treated as `np.float64 == np.dtype(float).type`.\n",
      "  from ._conv import register_converters as _register_converters\n",
      "Using TensorFlow backend.\n"
     ]
    }
   ],
   "source": [
    "import keras\n",
    "import numpy as np\n",
    "import pandas as pd\n",
    "from keras import backend as tensorflow\n",
    "from keras.models import Sequential\n",
    "from keras.layers import Activation, Dropout\n",
    "from keras.layers import LSTM\n",
    "from keras import optimizers\n",
    "from keras.layers.core import Dense\n",
    "from keras.optimizers import Adam\n",
    "from keras.metrics import categorical_crossentropy\n",
    "import csv\n",
    "\n",
    "#np.random.seed(123)"
   ]
  },
  {
   "cell_type": "code",
   "execution_count": 2,
   "metadata": {},
   "outputs": [],
   "source": [
    "data=pd.read_csv('criminal_train.csv')\n",
    "X=data.iloc[0:45718,1:71]\n",
    "Y=data.iloc[0:45718,71:72]\n",
    "#print(data.iloc[0:784,0:8])\n",
    "#X.at[1:5,3:4]='0'\n",
    "#X.iloc[0:8,0:8]\n",
    "#X[X.IIHHSIZ2>1]\n",
    "#X['IFATHER'].replace(4, '0',inplace=True)\n",
    "#X.PRXYDATA.replace(99,'0',inplace=True)\n",
    "X.iloc[0:45718,0:69]=X.iloc[0:45718,0:70]%99    \n",
    "X.iloc[0:45718,0:69]=X.iloc[0:45718,0:70]%98\n",
    "X.iloc[0:45718,0:69]=X.iloc[0:45718,0:70]%6\n",
    "X.iloc[0:45718,0:70]=X.iloc[0:45718,0:70]%4\n",
    "\n",
    "#data\n"
   ]
  },
  {
   "cell_type": "code",
   "execution_count": 6,
   "metadata": {},
   "outputs": [],
   "source": [
    "# create model\n",
    "model = Sequential()\n",
    "model.add(Dense(100, input_dim=70, activation='relu'))\n",
    "model.add(Dense(30, activation='relu'))\n",
    "model.add(Dense(1, activation='sigmoid'))"
   ]
  },
  {
   "cell_type": "code",
   "execution_count": 7,
   "metadata": {},
   "outputs": [],
   "source": [
    "model.compile(loss='binary_crossentropy', optimizer='adam', metrics=['accuracy'])\n",
    "#adadelta = optimizers.Ada-crossentrop-crdelta(lr=0.01, decay=1e-6)"
   ]
  },
  {
   "cell_type": "code",
   "execution_count": 8,
   "metadata": {
    "scrolled": true
   },
   "outputs": [
    {
     "name": "stdout",
     "output_type": "stream",
     "text": [
      "Train on 38860 samples, validate on 6858 samples\n",
      "Epoch 1/5\n",
      "38860/38860 [==============================] - 3s 79us/step - loss: 0.2163 - acc: 0.9230 - val_loss: 0.1596 - val_acc: 0.9376\n",
      "Epoch 2/5\n",
      "38860/38860 [==============================] - 2s 64us/step - loss: 0.1650 - acc: 0.9343 - val_loss: 0.1515 - val_acc: 0.9382\n",
      "Epoch 3/5\n",
      "38860/38860 [==============================] - 3s 66us/step - loss: 0.1596 - acc: 0.9332 - val_loss: 0.1502 - val_acc: 0.9390\n",
      "Epoch 4/5\n",
      "38860/38860 [==============================] - 2s 57us/step - loss: 0.1547 - acc: 0.9363 - val_loss: 0.1446 - val_acc: 0.9402\n",
      "Epoch 5/5\n",
      "38860/38860 [==============================] - 2s 60us/step - loss: 0.1515 - acc: 0.9371 - val_loss: 0.1413 - val_acc: 0.9412\n"
     ]
    },
    {
     "data": {
      "text/plain": [
       "<keras.callbacks.History at 0x1f39f743940>"
      ]
     },
     "execution_count": 8,
     "metadata": {},
     "output_type": "execute_result"
    }
   ],
   "source": [
    "model.fit(X,Y,validation_split=0.15,batch_size=100, epochs=5, shuffle=True, verbose=1)"
   ]
  },
  {
   "cell_type": "code",
   "execution_count": 9,
   "metadata": {},
   "outputs": [],
   "source": [
    "model.save('good.h5')"
   ]
  },
  {
   "cell_type": "code",
   "execution_count": 10,
   "metadata": {
    "scrolled": false
   },
   "outputs": [],
   "source": [
    "testing=pd.read_csv('criminal_test.csv')\n",
    "\n",
    "r,c=testing.shape\n",
    "\n",
    "test=testing.iloc[0:11430,1:71]\n",
    "\n",
    "test.iloc[0:11430,0:69]=test.iloc[0:11430,0:70]%99    \n",
    "test.iloc[0:11430,0:69]=test.iloc[0:11430,0:70]%98\n",
    "test.iloc[0:45718,0:69]=test.iloc[0:45718,0:70]%6\n",
    "test.iloc[0:11430,0:70]=test.iloc[0:11430,0:70]%2 \n",
    "\n",
    "j=0\n",
    "put=[]\n",
    "\n",
    "for j in range (0,11430):\n",
    "    data=test.iloc[j:j+1,0:71]\n",
    "    ans=model.predict(data)\n",
    "\n",
    "    if ans >=0.25 :\n",
    "        b=1\n",
    "        put.append(b)\n",
    "    else :\n",
    "        b=0\n",
    "        put.append(b)\n",
    "\n",
    "\n",
    "ifile  = open('shit.csv', \"r\")\n",
    "reader = csv.reader(ifile)\n",
    "ofile  = open('ttest.csv', \"w\")\n",
    "writer = csv.writer(ofile, delimiter=',', quotechar='\"', quoting=csv.QUOTE_ALL)\n",
    "i=0\n",
    "j=0\n",
    "for row in reader:\n",
    "    if i!=0 :\n",
    "        row[1]=put[j]\n",
    "        j+=1\n",
    "    i+=1\n",
    "    writer.writerow(row)\n",
    "   \n",
    " \n",
    "ifile.close()\n",
    "ofile.close()"
   ]
  },
  {
   "cell_type": "code",
   "execution_count": null,
   "metadata": {},
   "outputs": [],
   "source": []
  },
  {
   "cell_type": "code",
   "execution_count": null,
   "metadata": {},
   "outputs": [],
   "source": []
  }
 ],
 "metadata": {
  "kernelspec": {
   "display_name": "Python 3",
   "language": "python",
   "name": "python3"
  },
  "language_info": {
   "codemirror_mode": {
    "name": "ipython",
    "version": 3
   },
   "file_extension": ".py",
   "mimetype": "text/x-python",
   "name": "python",
   "nbconvert_exporter": "python",
   "pygments_lexer": "ipython3",
   "version": "3.6.4"
  }
 },
 "nbformat": 4,
 "nbformat_minor": 2
}
